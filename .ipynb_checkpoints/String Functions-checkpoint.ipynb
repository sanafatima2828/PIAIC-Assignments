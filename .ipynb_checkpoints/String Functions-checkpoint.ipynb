{
 "cells": [
  {
   "cell_type": "markdown",
   "metadata": {},
   "source": [
    "# Name: Sana Manzoor \n",
    "#### Roll Number:PIAIC62529\n",
    "#### Assignment No: 1"
   ]
  },
  {
   "cell_type": "code",
   "execution_count": 2,
   "metadata": {},
   "outputs": [
    {
     "name": "stdout",
     "output_type": "stream",
     "text": [
      "SanaManzoor\n",
      "4 -5 0\n",
      "piaic batch 3 class ai\n",
      "Name:   Sana   ,\n",
      " Father Name:Manzoor, \n",
      " Message:PIAIC BATCH 3 Class AI\n",
      "Piaic batch 3 class ai\n",
      "14\n",
      "PIAIC BATCH 3 Class AI\n",
      "1\n",
      "b'PIAIC BATCH 3 Class AI'\n",
      "False\n",
      "Piaic batch 3 class ai\n",
      "14\n",
      "PIAIC BATCH 3 Class AI\n",
      "1\n",
      "b'PIAIC BATCH 3 Class AI'\n",
      "False\n",
      "0\n",
      "False\n",
      "True\n",
      "False\n",
      "False\n",
      "False\n",
      "False\n",
      "False\n",
      "True\n",
      "False\n",
      "True\n",
      "False\n",
      ".   Sana   .   Sana   .\n",
      "   Sana   \n",
      "   sana   \n",
      "Sana   \n",
      "{83: 65, 97: 97, 110: 115}\n",
      "Hira\n",
      "6\n",
      "6\n",
      "PIAIC BATCH 3 Class AI\n",
      "('', '', '   Sana   ')\n"
     ]
    },
    {
     "ename": "NameError",
     "evalue": "name 'greetingText' is not defined",
     "output_type": "error",
     "traceback": [
      "\u001b[1;31m---------------------------------------------------------------------------\u001b[0m",
      "\u001b[1;31mNameError\u001b[0m                                 Traceback (most recent call last)",
      "\u001b[1;32m<ipython-input-2-be51cf6a7ad9>\u001b[0m in \u001b[0;36m<module>\u001b[1;34m\u001b[0m\n\u001b[0;32m     48\u001b[0m \u001b[0mprint\u001b[0m\u001b[1;33m(\u001b[0m\u001b[0mmsg\u001b[0m\u001b[1;33m.\u001b[0m\u001b[0mrjust\u001b[0m\u001b[1;33m(\u001b[0m\u001b[1;36m10\u001b[0m\u001b[1;33m,\u001b[0m \u001b[1;34m'0'\u001b[0m\u001b[1;33m)\u001b[0m\u001b[1;33m)\u001b[0m\u001b[1;33m\u001b[0m\u001b[1;33m\u001b[0m\u001b[0m\n\u001b[0;32m     49\u001b[0m \u001b[0mprint\u001b[0m\u001b[1;33m(\u001b[0m\u001b[0mname\u001b[0m\u001b[1;33m.\u001b[0m\u001b[0mrpartition\u001b[0m\u001b[1;33m(\u001b[0m\u001b[1;34m\"BATCH\"\u001b[0m\u001b[1;33m)\u001b[0m\u001b[1;33m)\u001b[0m\u001b[1;33m\u001b[0m\u001b[1;33m\u001b[0m\u001b[0m\n\u001b[1;32m---> 50\u001b[1;33m \u001b[0mprint\u001b[0m\u001b[1;33m(\u001b[0m\u001b[0mgreetingText\u001b[0m\u001b[1;33m.\u001b[0m\u001b[0mrsplit\u001b[0m\u001b[1;33m(\u001b[0m \u001b[1;33m)\u001b[0m\u001b[1;33m)\u001b[0m\u001b[1;33m\u001b[0m\u001b[1;33m\u001b[0m\u001b[0m\n\u001b[0m\u001b[0;32m     51\u001b[0m \u001b[0mprint\u001b[0m\u001b[1;33m(\u001b[0m\u001b[0mname\u001b[0m\u001b[1;33m.\u001b[0m\u001b[0mrstrip\u001b[0m\u001b[1;33m(\u001b[0m \u001b[1;33m)\u001b[0m\u001b[1;33m)\u001b[0m\u001b[1;33m\u001b[0m\u001b[1;33m\u001b[0m\u001b[0m\n\u001b[0;32m     52\u001b[0m \u001b[0mprint\u001b[0m\u001b[1;33m(\u001b[0m\u001b[0mname\u001b[0m\u001b[1;33m.\u001b[0m\u001b[0msplit\u001b[0m\u001b[1;33m(\u001b[0m \u001b[1;33m)\u001b[0m\u001b[1;33m)\u001b[0m\u001b[1;33m\u001b[0m\u001b[1;33m\u001b[0m\u001b[0m\n",
      "\u001b[1;31mNameError\u001b[0m: name 'greetingText' is not defined"
     ]
    }
   ],
   "source": [
    "\n",
    "name=\"   Sana   \"\n",
    "fname=\"Manzoor\"\n",
    "msg=\"PIAIC BATCH 3 Class AI\"\n",
    "decimal = {'x':4,'y':-5, 'z': 0}\n",
    "fullName=\"Sana\"+\"Manzoor\"\n",
    "print(fullName.expandtabs(15))\n",
    "print('{x} {y} {z}'.format_map(decimal))\n",
    "print(msg.casefold())\n",
    "\n",
    "print(\"Name:{},\\n Father Name:{}, \\n Message:{}\".format(name,fname,msg)) \n",
    "print(msg.capitalize())\n",
    "print(msg.find(\"Class\"))\n",
    "print(msg.center(20))\n",
    "print(msg.count(\"Class\"))\n",
    "print(msg.encode())\n",
    "print(msg.endswith(\"PIAIC\"))\n",
    "print(msg.capitalize())\n",
    "print(msg.find(\"Class\"))\n",
    "print(msg.center(20))\n",
    "print(msg.count(\"Class\"))\n",
    "print(msg.encode())\n",
    "print(msg.endswith(\"PIAIC\"))\n",
    "print(msg.index(\"PIAIC\"))\n",
    "print(name.isalpha())\n",
    "print(name.isascii())\n",
    "print(name.isdecimal())\n",
    "print(name.isdigit())\n",
    "print(name.isidentifier())\n",
    "print(name.islower())\n",
    "print(name.isnumeric())\n",
    "print(name.isprintable())\n",
    "print(name.isspace())\n",
    "print(name.istitle())\n",
    "print(name.isupper())\n",
    "print(name.join(\"...\"))\n",
    "print(name.ljust(10, '!'))\n",
    "print(name.lower())\n",
    "print(name.lstrip())\n",
    "name1 = \"Sana\"\n",
    "name2 = \"Aqsa\"\n",
    "string = \"Hira\"\n",
    "print(string.maketrans(name1, name2))\n",
    "print( string.translate(string.maketrans(name1, name2)))\n",
    "\n",
    "print(msg.rfind(\"BATCH\"))\n",
    "print(msg.rindex('BATCH', 3))\n",
    "\n",
    "print(msg.rjust(10, '0'))\n",
    "print(name.rpartition(\"BATCH\"))\n",
    "print(name.rsplit( ))\n",
    "print(name.rstrip( ))\n",
    "print(name.split( ))\n",
    "txt = \"\"\"Pakistan is my Country\"\"\"\n",
    "x = txt.splitlines()\n",
    "print(x)\n",
    "print(msg.startswith(\"a\"))\n",
    "print(msg.strip(\"a\"))\n",
    "print(msg.swapcase())\n",
    "print(msg.title())\n",
    "print(msg.upper())"
   ]
  },
  {
   "cell_type": "code",
   "execution_count": null,
   "metadata": {},
   "outputs": [],
   "source": []
  }
 ],
 "metadata": {
  "kernelspec": {
   "display_name": "Python 3",
   "language": "python",
   "name": "python3"
  },
  "language_info": {
   "codemirror_mode": {
    "name": "ipython",
    "version": 3
   },
   "file_extension": ".py",
   "mimetype": "text/x-python",
   "name": "python",
   "nbconvert_exporter": "python",
   "pygments_lexer": "ipython3",
   "version": "3.7.4"
  }
 },
 "nbformat": 4,
 "nbformat_minor": 2
}
